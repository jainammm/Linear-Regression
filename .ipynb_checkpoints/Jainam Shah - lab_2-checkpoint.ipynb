{
 "cells": [
  {
   "cell_type": "markdown",
   "metadata": {
    "colab_type": "text",
    "id": "Ox5bZYB3DNOC"
   },
   "source": [
    "# **Lab 2**\n",
    "### Weightage 3%\n",
    "## Linear Regression\n",
    "---\n",
    "Dataset used: \n",
    "  ACS Flammability Limit Computation\n",
    "\n",
    "---\n",
    "\n",
    "\n",
    "\n",
    "Maximum Points in the Lab: 65\n",
    "\n",
    "---\n",
    "Important points to remember :\n",
    "\n",
    "\n",
    "1.  Observations for the experiments should be explained.\n",
    "2. All the code should be submitted in the form of a single Jupyter notebook itself.\n",
    "3. Points for each sub-section are mentioned in the appropriate question.\n",
    "4. Make sure to begin early as a few experiments may consume more time to run.\n",
    "5. You can use Google colab to run in jupyter notebook (https://colab.research.google.com/) How to load data in Google Colab ?(https://towardsdatascience.com/3-ways-to-load-csv-files-into-colab-7c14fcbdcb92)\n",
    "6. The lab must be submitted on Google classroom. The code as well as the accompanying observations should be made part of the python notebook.\n",
    "7. **Code Readability** is very important. Hence use self explanatory variable names and add comments to describe your approach wherever necessary.\n",
    "8. You are expected to submit your **detailed inferences** and not just an error free code.\n",
    "9. The lab is due on **Feb 21st 11.59pm**.\n",
    "10. The lab should be completed **individually**. Students are expected to follow the **honor code** of the class.\n",
    "\n",
    "\n"
   ]
  },
  {
   "cell_type": "code",
   "execution_count": 1,
   "metadata": {
    "colab": {},
    "colab_type": "code",
    "id": "rvZ4obBVCkdx"
   },
   "outputs": [],
   "source": [
    "# Import necessary libraries\n",
    "\n",
    "import sklearn\n",
    "from sklearn.linear_model import LinearRegression\n",
    "from sklearn.linear_model import Ridge\n",
    "from sklearn.linear_model import Lasso\n",
    "import matplotlib.pyplot as plt\n",
    "import numpy as np\n",
    "import pandas as pd"
   ]
  },
  {
   "cell_type": "markdown",
   "metadata": {
    "colab_type": "text",
    "id": "0-AitLgoFqGc"
   },
   "source": [
    "Describe the arguments and output of the linear regression function call in sklearn package.\n",
    "\n",
    "\n",
    "\n",
    "---\n",
    "**5 Points** \n",
    "\n",
    "\n",
    "---\n",
    "\n",
    "\n"
   ]
  },
  {
   "cell_type": "markdown",
   "metadata": {
    "colab_type": "text",
    "id": "rrzJ2WFeGFZ1"
   },
   "source": [
    "We will be using the ACS flammability limit computation dataset for linear regression task. The dataset contains 105 molecular properties of few chemical compounds from which Flammability Limit is to be computed. The following block contains code to read the excel file from the given URL and preprocess the data. **Please don't make any changes to the block below.**"
   ]
  },
  {
   "cell_type": "code",
   "execution_count": 3,
   "metadata": {
    "colab": {},
    "colab_type": "code",
    "id": "lxOnNEVUG0Yk"
   },
   "outputs": [],
   "source": [
    "\n",
    "# Load the dataset onto a data frame. !! Please dont make any changes !!\n",
    "url = \"https://ndownloader.figshare.com/files/18729491\"\n",
    "data_frame = pd.read_excel(url,encoding='latin-1',skiprows=5)\n",
    "\n",
    "# Necessary attributes converted to numpy arrays\n",
    "target = data_frame.iloc[:,4].to_numpy()\n",
    "input_features = data_frame.iloc[:,6:].to_numpy()\n"
   ]
  },
  {
   "cell_type": "markdown",
   "metadata": {
    "colab_type": "text",
    "id": "XSmvKwKtS0eb"
   },
   "source": [
    "We have input attributes and output vector ready. Now the first step is to split the entire dataset into training and test subsets. sklearn package provides you a flexible way of doing this. All you need to do is just specify input attributes array, target array and fraction of the test set. Once the split is done, we are ready to train the model and evaluate it. \n",
    "\n",
    "- We would like you to experiment with different test set fractions and comment on how well the model is able to estimate the target value for new test instances? \n",
    "\n",
    "- Also there is another flexibility to tune the intercept term on or off. We would like you to experiment on those possibilities as well.\n",
    "\n",
    "**Note:** Don't forget to explicitly normalize the attributes.\n",
    "\n",
    "---\n",
    "\n",
    "\n",
    "**10 Points** \n",
    "\n",
    "---\n",
    "\n"
   ]
  },
  {
   "cell_type": "code",
   "execution_count": 0,
   "metadata": {
    "colab": {},
    "colab_type": "code",
    "id": "hzyj0Ia3V166"
   },
   "outputs": [],
   "source": [
    "\n",
    "test_size_fractions = [0.2,0.3,0.4,0.5]\n",
    "\n",
    "mse_list = []\n",
    "\n",
    "# Step 1: Create a linear regressor object \n",
    "\n",
    "\n",
    "\n",
    "# Step 2: Create a linear regressor object forcing bias or intercept as 0\n",
    "\n",
    "\n",
    "# Experiment with 8 different model setup\n",
    "\n",
    "for fraction in test_size_fractions:\n",
    "    \n",
    "    \n",
    "    # Step 3: Split into train and test set based on the fraction\n",
    "    # Insert your code below\n",
    "    \n",
    "\n",
    "    # Step 4(a): Train the Intercept Linear Regression model using held out training set\n",
    "    # Insert your code below\n",
    "    \n",
    "\n",
    "    # Step 4(b): Predict the target values using the trained model for test set instances\n",
    "    # Insert your code below\n",
    "    \n",
    "\n",
    "    # Step 4(c): Print the mean squared error of the model on test data set. Store this value to mse list to find the best model setting.\n",
    "    # Insert your code below\n",
    "    \n",
    "    \n",
    "\n",
    "    # Step 5(a): Train the Non Intercept Linear Regression model using held out training set\n",
    "    # Insert your code below\n",
    "   \n",
    "\n",
    "    # Step 5(b): Predict the target values using the trained non intercept for test set instances\n",
    "    # Insert your code below\n",
    "   \n",
    "\n",
    "    # Step 5(c): Print the mean squared error of the non intercept model on test data set. Store this value to mse list to find the best model setting.\n",
    "    # Insert your code below\n",
    "    \n"
   ]
  },
  {
   "cell_type": "markdown",
   "metadata": {
    "colab_type": "text",
    "id": "l8aRGM_afDmY"
   },
   "source": [
    "In the previous block you have experimented with different settings of the Linear Regression model. You have test set mean squared error stored. Figure out which setting gave the least mean squared error. \n",
    "\n",
    "---\n",
    "\n",
    "**5 Points**\n",
    "\n",
    "---\n",
    "\n",
    "\n"
   ]
  },
  {
   "cell_type": "code",
   "execution_count": 0,
   "metadata": {
    "colab": {},
    "colab_type": "code",
    "id": "cyFU-GFUhZkB"
   },
   "outputs": [],
   "source": [
    "# Insert your code to identify the best fraction and intercept requirement. Also, print the best setting chosen.\n"
   ]
  },
  {
   "cell_type": "markdown",
   "metadata": {
    "colab_type": "text",
    "id": "mQVehqr9hl6x"
   },
   "source": [
    "Now that you have figured out the best model setting, use that setting to train the model to predict test instances.\n",
    "\n",
    "\n",
    "---\n",
    "\n",
    "**3 Points**\n",
    "\n",
    "\n",
    "---\n",
    "\n"
   ]
  },
  {
   "cell_type": "code",
   "execution_count": 0,
   "metadata": {
    "colab": {},
    "colab_type": "code",
    "id": "JJEf7Rg8h7oS"
   },
   "outputs": [],
   "source": [
    "# Step 1: Split the entire dataset into train and test set based on the best fraction\n",
    "# Insert your code below\n",
    "\n",
    "\n",
    "# Step 2: Create a linear regressor object with intercept turned on or off as per best model setting\n",
    "# Insert your code below\n",
    "\n",
    "\n",
    "# Step 3(a): Train the Linear Regression model using training set\n",
    "# Insert your code below\n",
    "\n",
    "\n",
    "# Step 3(b): Predict the target values using the trained model for test set instances\n",
    "# Insert your code below\n",
    "\n",
    "\n",
    "# Step 3(c): Print the mean squared error of the model on test set. \n",
    "# Insert your code below\n",
    "\n"
   ]
  },
  {
   "cell_type": "markdown",
   "metadata": {
    "colab_type": "text",
    "id": "ZHT58sjij0f4"
   },
   "source": [
    "Now check the goodness of the model with repsect to prediction on test instances. The aim is to predict the target values for test instances using the trained model. These values would be plotted against the true values of the test instances. A good model would yield a plot that looks *close to a line of slope 45 degree*. **Comment** on the goodness of the learned model using this test.\n",
    "\n",
    "---\n",
    "\n",
    "**5 points** \n",
    "\n",
    "---\n",
    "\n",
    "\n",
    "\n",
    "\n",
    "\n"
   ]
  },
  {
   "cell_type": "code",
   "execution_count": 0,
   "metadata": {
    "colab": {},
    "colab_type": "code",
    "id": "CuDziN7WlJHy"
   },
   "outputs": [],
   "source": [
    "# Insert your code to plot true vs predicted test values\n",
    "\n"
   ]
  },
  {
   "cell_type": "markdown",
   "metadata": {
    "colab_type": "text",
    "id": "-6jQmj8amZTr"
   },
   "source": [
    "You have implemented simple linear regression. You may apply regularization techniques that constrain the coefficients. We will be seeing 2 types of regularized regression techniques:\n",
    "\n",
    "\n",
    "1.   Ridge Regression\n",
    "2.   Lasso Regression\n",
    "\n"
   ]
  },
  {
   "cell_type": "markdown",
   "metadata": {
    "colab_type": "text",
    "id": "sxHV6iP4Mlwg"
   },
   "source": [
    "# Ridge Regression\n",
    "\n",
    "---\n",
    "\n",
    "Describe the arguments and output of the Ridge regression function call in sklearn package.\n",
    "\n",
    "\n",
    "\n",
    "---\n",
    "**5 Points** \n",
    "\n",
    "\n",
    "---\n",
    "\n",
    "\n"
   ]
  },
  {
   "cell_type": "markdown",
   "metadata": {
    "colab_type": "text",
    "id": "9Wyr-kOLm-AT"
   },
   "source": [
    "\n",
    "\n",
    "\n",
    "In ridge regression, L-2 regularization is applied to the coefficients. You have a hyperparameter alpha which you can vary to control the extent of constraining the coefficients. We would like you to experiment with different values of alpha and comment on the model performance. You may use the best setting of Linear Regression to Ridge Regression also. **Comment** on the effect of the alpha value on the mean squared error.\n",
    "\n",
    "\n",
    "---\n",
    "\n",
    "**9 Points**\n",
    "\n",
    "\n",
    "---\n",
    "\n"
   ]
  },
  {
   "cell_type": "code",
   "execution_count": 0,
   "metadata": {
    "colab": {},
    "colab_type": "code",
    "id": "-2MHw9z8oKVE"
   },
   "outputs": [],
   "source": [
    "\n",
    "alpha_values = [0.01,0.05,0.1,0.25,0.5,0.75,1,1.25,1.5,1.75,2]\n",
    "error_list = []\n",
    "\n",
    "# Step 1: Split into train and test set based on the best fraction\n",
    "# Insert your code below\n",
    "\n",
    "\n",
    "for alpha_ in alpha_values:\n",
    "\n",
    "\n",
    "    # Step 2: Create a Ridge regressor object with desired alpha value\n",
    "    # Insert your code below\n",
    "    \n",
    "\n",
    "    # Step 3(a): Train the Ridge Regression model using training set\n",
    "    # Insert your code below\n",
    "    \n",
    "\n",
    "    # Step 3(b): Predict the target values using the trained Ridge model for test set instances\n",
    "    # Insert your code below\n",
    "    \n",
    "\n",
    "    # Step 3(c): Print the mean squared error of the model on test set. Add it to an error list to plot later.\n",
    "    # Insert your code below\n",
    "    \n",
    "\n",
    "\n",
    "# Step 4: Plot a graph of different alpha values of ridge regression versus mean squared error\n",
    "\n",
    "\n"
   ]
  },
  {
   "cell_type": "markdown",
   "metadata": {
    "colab_type": "text",
    "id": "qNlHlQBPNXLM"
   },
   "source": [
    "# Lasso Regression\n",
    "\n",
    "---\n",
    "\n",
    "Describe the arguments and output of the Ridge regression function call in sklearn package.\n",
    "\n",
    "\n",
    "\n",
    "---\n",
    "**5 Points** \n",
    "\n",
    "\n",
    "---\n",
    "\n",
    "\n"
   ]
  },
  {
   "cell_type": "markdown",
   "metadata": {
    "colab_type": "text",
    "id": "GLj4DffxpM4K"
   },
   "source": [
    "In Lasso regression, L-1 regularization is applied to the coefficients. You have a hyperparameter alpha which you can vary to control the extent of constraining the coefficients. We would like you to experiment with different values of alpha and **comment** on the model performance. You may use the best setting of Linear Regression to Lasso Regression also.\n",
    "\n",
    "---\n",
    "\n",
    "**9 Points**\n",
    "\n",
    "---\n",
    "\n"
   ]
  },
  {
   "cell_type": "code",
   "execution_count": 0,
   "metadata": {
    "colab": {},
    "colab_type": "code",
    "id": "FyEtXEX0jZRw"
   },
   "outputs": [],
   "source": [
    "from sklearn import linear_model\n",
    "\n",
    "alpha_values = [0.01,0.05,0.1,0.25,0.5,0.75,1,1.25,1.5,1.75,2]\n",
    "error_list = []\n",
    "\n",
    "# Step 1: Split into train and test set based on the best fraction\n",
    "# Insert your code below\n",
    "\n",
    "\n",
    "for alpha_ in alpha_values:\n",
    "\n",
    "    # Step 2: Create a LASSO regressor object with desired alpha value\n",
    "    # Insert your code below\n",
    "   \n",
    "\n",
    "    # Step 3(a): Train the LASSO Regression model using training set\n",
    "    # Insert your code below\n",
    "    \n",
    "\n",
    "    # Step 3(b): Predict the target values using the trained LASSO model for test set instances\n",
    "    # Insert your code below\n",
    "    \n",
    "\n",
    "    # Step 3(c): Print the mean squared error of the model on test set. Add it to an error list to plot later.\n",
    "    # Insert your code below\n",
    "    \n",
    "\n",
    "\n",
    "# Step 4: Plot a graph of different alpha values of lasso regression versus mean squared error\n",
    "\n",
    "\n"
   ]
  },
  {
   "cell_type": "markdown",
   "metadata": {
    "colab_type": "text",
    "id": "GaY8yDgjFvwb"
   },
   "source": [
    "Now since you have tried LASSO with different alpha values, you may try different number of maximum iterations associated with LASSO and **comment** on its effect on the mean squared error.\n",
    "\n",
    "\n",
    "---\n",
    "\n",
    "**9 Points**\n",
    "\n",
    "---\n",
    "\n"
   ]
  },
  {
   "cell_type": "code",
   "execution_count": 0,
   "metadata": {
    "colab": {},
    "colab_type": "code",
    "id": "51uy4oEqFuBK"
   },
   "outputs": [],
   "source": [
    "\n",
    "# Step 1: Split into train and test set based on the best fraction\n",
    "# Insert your code below\n",
    "\n",
    "\n",
    "for m_iterations in range(1,200,2):\n",
    "\n",
    "    \n",
    "\n",
    "    # Step 2: Create a LASSO regressor object with desired number of iterations\n",
    "    # Insert your code below\n",
    "    \n",
    "\n",
    "    # Step 3(a): Train the LASSO Regression model using training set\n",
    "    # Insert your code below\n",
    "    \n",
    "\n",
    "    # Step 3(b): Predict the target values using the trained LASSO model for test set instances\n",
    "    # Insert your code below\n",
    "   \n",
    "\n",
    "    # Step 3(c): Print the mean squared error of the model on test set. Add it to an error list to plot later.\n",
    "    # Insert your code below\n",
    "    \n",
    "\n",
    "\n",
    "# Step 4: Plot a graph of different alpha values of lasso regression versus mean squared error\n",
    "\n",
    "\n"
   ]
  }
 ],
 "metadata": {
  "accelerator": "TPU",
  "colab": {
   "collapsed_sections": [],
   "machine_shape": "hm",
   "name": "lab_2.ipynb",
   "provenance": []
  },
  "kernelspec": {
   "display_name": "Python (binEnv)",
   "language": "python",
   "name": "binenv"
  },
  "language_info": {
   "codemirror_mode": {
    "name": "ipython",
    "version": 3
   },
   "file_extension": ".py",
   "mimetype": "text/x-python",
   "name": "python",
   "nbconvert_exporter": "python",
   "pygments_lexer": "ipython3",
   "version": "3.6.8"
  }
 },
 "nbformat": 4,
 "nbformat_minor": 1
}
