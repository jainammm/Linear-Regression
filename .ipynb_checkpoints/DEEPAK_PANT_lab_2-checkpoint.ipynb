{
 "cells": [
  {
   "cell_type": "markdown",
   "metadata": {
    "colab_type": "text",
    "id": "Ox5bZYB3DNOC"
   },
   "source": [
    "# **Lab 2**\n",
    "### Weightage 3%\n",
    "## Linear Regression\n",
    "---\n",
    "Dataset used: \n",
    "  ACS Flammability Limit Computation\n",
    "\n",
    "---\n",
    "\n",
    "\n",
    "\n",
    "Maximum Points in the Lab: 65\n",
    "\n",
    "---\n",
    "Important points to remember :\n",
    "\n",
    "\n",
    "1.  Observations for the experiments should be explained.\n",
    "2. All the code should be submitted in the form of a single Jupyter notebook itself.\n",
    "3. Points for each sub-section are mentioned in the appropriate question.\n",
    "4. Make sure to begin early as a few experiments may consume more time to run.\n",
    "5. You can use Google colab to run in jupyter notebook (https://colab.research.google.com/) How to load data in Google Colab ?(https://towardsdatascience.com/3-ways-to-load-csv-files-into-colab-7c14fcbdcb92)\n",
    "6. The lab must be submitted on Google classroom. The code as well as the accompanying observations should be made part of the python notebook.\n",
    "7. **Code Readability** is very important. Hence use self explanatory variable names and add comments to describe your approach wherever necessary.\n",
    "8. You are expected to submit your **detailed inferences** and not just an error free code.\n",
    "9. The lab is due on **Feb 21st 11.59pm**.\n",
    "10. The lab should be completed **individually**. Students are expected to follow the **honor code** of the class.\n",
    "\n",
    "\n"
   ]
  },
  {
   "cell_type": "code",
   "execution_count": 0,
   "metadata": {
    "colab": {},
    "colab_type": "code",
    "id": "rvZ4obBVCkdx"
   },
   "outputs": [],
   "source": [
    "# Import necessary libraries\n",
    "\n",
    "import sklearn\n",
    "from sklearn.linear_model import LinearRegression\n",
    "from sklearn.linear_model import Ridge\n",
    "from sklearn.linear_model import Lasso\n",
    "import matplotlib.pyplot as plt\n",
    "import numpy as np\n",
    "import pandas as pd"
   ]
  },
  {
   "cell_type": "markdown",
   "metadata": {
    "colab_type": "text",
    "id": "0-AitLgoFqGc"
   },
   "source": [
    "Describe the arguments and output of the linear regression function call in sklearn package.\n",
    "\n",
    "\n",
    "\n",
    "---\n",
    "**5 Points** \n",
    "\n",
    "\n",
    "---\n",
    "\n",
    "\n"
   ]
  },
  {
   "cell_type": "markdown",
   "metadata": {
    "colab_type": "text",
    "id": "jVNsbz84Hg7d"
   },
   "source": [
    "**Linear Regression** Class in Sklearn performs the Ordinary Least Squares Regression.\n",
    "The parameters available in the class are:\n",
    "1. fit_intercept: Decides whether or not an intercept variable is used or not.\n",
    "2. normalize: Normalize the input vectors by subtracting by the mean and                      dividing by l2 norm.\n",
    "3. copy_X: Decides whether or not the input matrix X is preserved.\n",
    "4. n_jobs: Speeds up the training/testing the model by parallelisation.\n",
    "\n",
    "After Training, it results in a regressor with a coefficient vector(matrix) and an intercept value. It can be used to predict the values of testing data."
   ]
  },
  {
   "cell_type": "markdown",
   "metadata": {
    "colab_type": "text",
    "id": "rrzJ2WFeGFZ1"
   },
   "source": [
    "We will be using the ACS flammability limit computation dataset for linear regression task. The dataset contains 105 molecular properties of few chemical compounds from which Flammability Limit is to be computed. The following block contains code to read the excel file from the given URL and preprocess the data. **Please don't make any changes to the block below.**"
   ]
  },
  {
   "cell_type": "code",
   "execution_count": 0,
   "metadata": {
    "colab": {},
    "colab_type": "code",
    "id": "lxOnNEVUG0Yk"
   },
   "outputs": [],
   "source": [
    "\n",
    "# Load the dataset onto a data frame. !! Please dont make any changes !!\n",
    "url = \"https://ndownloader.figshare.com/files/18729491\"\n",
    "data_frame = pd.read_excel(url,encoding='latin-1',skiprows=5)\n",
    "\n",
    "# Necessary attributes converted to numpy arrays\n",
    "target = data_frame.iloc[:,4].to_numpy()\n",
    "input_features = data_frame.iloc[:,6:].to_numpy()"
   ]
  },
  {
   "cell_type": "markdown",
   "metadata": {
    "colab_type": "text",
    "id": "XSmvKwKtS0eb"
   },
   "source": [
    "We have input attributes and output vector ready. Now the first step is to split the entire dataset into training and test subsets. sklearn package provides you a flexible way of doing this. All you need to do is just specify input attributes array, target array and fraction of the test set. Once the split is done, we are ready to train the model and evaluate it. \n",
    "\n",
    "- We would like you to experiment with different test set fractions and comment on how well the model is able to estimate the target value for new test instances? \n",
    "\n",
    "- Also there is another flexibility to tune the intercept term on or off. We would like you to experiment on those possibilities as well.\n",
    "\n",
    "**Note:** Don't forget to explicitly normalize the attributes.\n",
    "\n",
    "---\n",
    "\n",
    "\n",
    "**10 Points** \n",
    "\n",
    "---\n",
    "\n"
   ]
  },
  {
   "cell_type": "code",
   "execution_count": 17,
   "metadata": {
    "colab": {
     "base_uri": "https://localhost:8080/",
     "height": 286
    },
    "colab_type": "code",
    "id": "hzyj0Ia3V166",
    "outputId": "7acedd28-d4b9-43c6-9992-068d465d8a1e"
   },
   "outputs": [
    {
     "name": "stdout",
     "output_type": "stream",
     "text": [
      "Mean Squared Error with intercept on test_size = 0.2: 7.446738452092661e+24 \n",
      "\n",
      "Mean Squared Error without intercept on test_size = 0.2: 0.07303269019177201 \n",
      "\n",
      "Mean Squared Error with intercept on test_size = 0.3: 4.802741109808774e+25 \n",
      "\n",
      "Mean Squared Error without intercept on test_size = 0.3: 0.07677604148719748 \n",
      "\n",
      "Mean Squared Error with intercept on test_size = 0.4: 9.763996914261878e+23 \n",
      "\n",
      "Mean Squared Error without intercept on test_size = 0.4: 0.11009041444307918 \n",
      "\n",
      "Mean Squared Error with intercept on test_size = 0.5: 9.600642896281938e+19 \n",
      "\n",
      "Mean Squared Error without intercept on test_size = 0.5: 0.16195835624983348 \n",
      "\n"
     ]
    }
   ],
   "source": [
    "from sklearn.model_selection import train_test_split\n",
    "from sklearn.metrics import mean_squared_error\n",
    "from sklearn.preprocessing import normalize\n",
    "from sklearn.base import clone\n",
    "\n",
    "test_size_fractions = [0.2,0.3,0.4,0.5]\n",
    "\n",
    "mse_list = []\n",
    "\n",
    "# Step 1: Create a linear regressor object \n",
    "# Insert your code below\n",
    "reg_with_intercept = LinearRegression(normalize=True)\n",
    "\n",
    "# Step 2: Create a linear regressor object forcing bias or intercept as 0\n",
    "# Insert your code below\n",
    "reg_without_intercept = LinearRegression(fit_intercept=False)\n",
    "\n",
    "input_features = normalize(input_features) # Normalizing the input vectors\n",
    "\n",
    "# THR = 5 #Threshold Difference between samples to be considered an outlier \n",
    "\n",
    "# Experiment with 8 different model setup\n",
    "for fraction in test_size_fractions:\n",
    "    # Step 3: Split into train and test set based on the fraction\n",
    "    # Insert your code below\n",
    "    X_train, X_test, y_train, y_test = train_test_split(input_features, target, test_size=fraction, random_state=42)\n",
    "\n",
    "    # Step 4(a): Train the Intercept Linear Regression model using held out training set\n",
    "    # Insert your code below\n",
    "    reg_with_intercept.fit(X_train, y_train)\n",
    "\n",
    "    # Step 4(b): Predict the target values using the trained model for test set instances\n",
    "    # Insert your code below\n",
    "    y_pred = reg_with_intercept.predict(X_test)\n",
    "    # Step 4(c): Print the mean squared error of the model on test data set. Store this value to mse list to find the best model setting.\n",
    "    # Insert your code below\n",
    "    mse_intercept = mean_squared_error(y_test, y_pred)\n",
    "    mse_list.append(mse_intercept)\n",
    "    # print(f'Number of Outliers: {np.array(np.where(abs(y_pred-y_test) > THR)).size} out of {y_pred.size} samples')\n",
    "    print(f'Mean Squared Error with intercept on test_size = {fraction}:', mse_intercept, '\\n')\n",
    "\n",
    "    # Step 5(a): Train the Non Intercept Linear Regression model using held out training set\n",
    "    # Insert your code below\n",
    "    reg_without_intercept.fit(X_train, y_train)   \n",
    "\n",
    "    # Step 5(b): Predict the target values using the trained non intercept for test set instances\n",
    "    # Insert your code below\n",
    "    y_pred = reg_without_intercept.predict(X_test)\n",
    "\n",
    "    # Step 5(c): Print the mean squared error of the non intercept model on test data set. Store this value to mse list to find the best model setting.\n",
    "    # Insert your code below\n",
    "    mse_wo_intercept = mean_squared_error(y_test, y_pred)\n",
    "    mse_list.append(mse_wo_intercept)\n",
    "    # print(reg_without_intercept.score(X_test, y_test))\n",
    "    # print(f'Number of Outliers: {np.array(np.where(abs(y_pred-y_test) > THR)).size} out of {y_pred.size} samples')\n",
    "    print(f'Mean Squared Error without intercept on test_size = {fraction}:', mse_wo_intercept, '\\n')\n",
    "    reg_with_intercept = clone(reg_with_intercept)\n",
    "    reg_without_intercept = clone(reg_without_intercept)"
   ]
  },
  {
   "cell_type": "markdown",
   "metadata": {
    "colab_type": "text",
    "id": "bjEaaVjDJTFK"
   },
   "source": [
    "**Observations:**: After normalization of input features(or samples), the model with intercept performs very poorly compared to the model without intercept. It is observed that weights in with_intercept regressor have very high absolute values compared to those without_intercept regressor.The model with intercept exhibits high variance compared to without intercept. The best model is trained with test size = 0.2 without intercept."
   ]
  },
  {
   "cell_type": "markdown",
   "metadata": {
    "colab_type": "text",
    "id": "l8aRGM_afDmY"
   },
   "source": [
    "In the previous block you have experimented with different settings of the Linear Regression model. You have test set mean squared error stored. Figure out which setting gave the least mean squared error. \n",
    "\n",
    "---\n",
    "\n",
    "**5 Points**\n",
    "\n",
    "---\n",
    "\n",
    "\n"
   ]
  },
  {
   "cell_type": "code",
   "execution_count": 20,
   "metadata": {
    "colab": {
     "base_uri": "https://localhost:8080/",
     "height": 50
    },
    "colab_type": "code",
    "id": "cyFU-GFUhZkB",
    "outputId": "8125ea55-8fa6-443b-eba0-efa49545cd3f"
   },
   "outputs": [
    {
     "name": "stdout",
     "output_type": "stream",
     "text": [
      "Lowest Mean Squared error achieved with test_size = 0.2 and without intercept.\n",
      "Error =  0.07303269019177201\n"
     ]
    }
   ],
   "source": [
    "# Insert your code to identify the best fraction and intercept requirement. Also, print the best setting chosen.\n",
    "index_min_mse = mse_list.index(min(mse_list))\n",
    "intercept_option = index_min_mse % 2\n",
    "test_size_fractions_index = index_min_mse // 2\n",
    "ap_str = ''\n",
    "if intercept_option == 1: ap_str = 'out'\n",
    "print(f'Lowest Mean Squared error achieved with test_size = {test_size_fractions[test_size_fractions_index]} and with{ap_str} intercept.')\n",
    "print('Error = ', min(mse_list))"
   ]
  },
  {
   "cell_type": "markdown",
   "metadata": {
    "colab_type": "text",
    "id": "mQVehqr9hl6x"
   },
   "source": [
    "Now that you have figured out the best model setting, use that setting to train the model to predict test instances.\n",
    "\n",
    "\n",
    "---\n",
    "\n",
    "**3 Points**\n",
    "\n",
    "\n",
    "---\n",
    "\n"
   ]
  },
  {
   "cell_type": "code",
   "execution_count": 21,
   "metadata": {
    "colab": {
     "base_uri": "https://localhost:8080/",
     "height": 34
    },
    "colab_type": "code",
    "id": "JJEf7Rg8h7oS",
    "outputId": "c9e96ab8-0462-400f-cd2f-80932bb417ef"
   },
   "outputs": [
    {
     "name": "stdout",
     "output_type": "stream",
     "text": [
      "0.07303269019177201\n"
     ]
    }
   ],
   "source": [
    "# Step 1: Split the entire dataset into train and test set based on the best fraction\n",
    "# Insert your code below\n",
    "best_test_size = test_size_fractions[test_size_fractions_index]\n",
    "X_train, X_test, y_train, y_test = train_test_split(input_features, target, test_size=best_test_size, random_state=42)\n",
    "# Step 2: Create a linear regressor object with intercept turned on or off as per best model setting\n",
    "# Insert your code below\n",
    "reg_best = LinearRegression(fit_intercept=(intercept_option^1), normalize=True)\n",
    "\n",
    "# Step 3(a): Train the Linear Regression model using training set\n",
    "# Insert your code below\n",
    "reg_best.fit(X_train, y_train)\n",
    "\n",
    "# Step 3(b): Predict the target values using the trained model for test set instances\n",
    "# Insert your code below\n",
    "y_pred = reg_best.predict(X_test)\n",
    "\n",
    "# Step 3(c): Print the mean squared error of the model on test set. \n",
    "# Insert your code below\n",
    "print(mean_squared_error(y_test, y_pred))\n",
    "reg_best = clone(reg_best)"
   ]
  },
  {
   "cell_type": "markdown",
   "metadata": {
    "colab_type": "text",
    "id": "ZHT58sjij0f4"
   },
   "source": [
    "Now check the goodness of the model with repsect to prediction on test instances. The aim is to predict the target values for test instances using the trained model. These values would be plotted against the true values of the test instances. A good model would yield a plot that looks *close to a line of slope 45 degree*. **Comment** on the goodness of the learned model using this test.\n",
    "\n",
    "---\n",
    "\n",
    "**5 points** \n",
    "\n",
    "---\n",
    "\n",
    "\n",
    "\n",
    "\n",
    "\n"
   ]
  },
  {
   "cell_type": "code",
   "execution_count": 22,
   "metadata": {
    "colab": {
     "base_uri": "https://localhost:8080/",
     "height": 279
    },
    "colab_type": "code",
    "id": "CuDziN7WlJHy",
    "outputId": "f8d13098-0c0f-47da-9569-a316a84816f8"
   },
   "outputs": [
    {
     "data": {
      "image/png": "[encoded data removed]",
      "text/plain": [
       "<Figure size 432x288 with 1 Axes>"
      ]
     },
     "metadata": {
      "tags": []
     },
     "output_type": "display_data"
    }
   ],
   "source": [
    "# Insert your code to plot true vs predicted test values\n",
    "plt.scatter(y_pred, y_test)\n",
    "plt.plot(y_test, y_test, color='r')\n",
    "plt.xlabel('Predicted Values')\n",
    "plt.ylabel('True Values')\n",
    "plt.show()"
   ]
  },
  {
   "cell_type": "markdown",
   "metadata": {
    "colab_type": "text",
    "id": "QJ5BNFvRKtDF"
   },
   "source": [
    "**OBSERVATIONS**: The model performs good enough and it is easily seen that the predicted values are close enough to true values. Still it is unable to perform accurately for all values. The MSE of the model is 0.12560508494137046 which is low enough to be considered a good model. There exist some outliers."
   ]
  },
  {
   "cell_type": "markdown",
   "metadata": {
    "colab_type": "text",
    "id": "-6jQmj8amZTr"
   },
   "source": [
    "You have implemented simple linear regression. You may apply regularization techniques that constrain the coefficients. We will be seeing 2 types of regularized regression techniques:\n",
    "\n",
    "\n",
    "1.   Ridge Regression\n",
    "2.   Lasso Regression\n",
    "\n"
   ]
  },
  {
   "cell_type": "markdown",
   "metadata": {
    "colab_type": "text",
    "id": "sxHV6iP4Mlwg"
   },
   "source": [
    "# Ridge Regression\n",
    "\n",
    "---\n",
    "\n",
    "Describe the arguments and output of the Ridge regression function call in sklearn package.\n",
    "\n",
    "\n",
    "\n",
    "---\n",
    "**5 Points** \n",
    "\n",
    "\n",
    "---\n",
    "\n",
    "\n"
   ]
  },
  {
   "cell_type": "markdown",
   "metadata": {
    "colab_type": "text",
    "id": "3QJMMt11MOC2"
   },
   "source": [
    "**Ridge regressor** perform Linear Regression with L2 regularization.\n",
    "It has following parameters:\n",
    "1. fit_intercept: Decides whether or not an intercept variable is used or not.\n",
    "2. normalize: Normalize the input vectors by subtracting by the mean and                      dividing by l2 norm.\n",
    "3. copy_X: Decides whether or not the input matrix X is preserved.\n",
    "5. alpha: Decides the coefficient of the regularizing term in the error.\n",
    "6. max_iter: Maximum number of iterations for conjugate gradient solver.\n",
    "7. solver: Decides how to solve the regression problem. e.g - lsqr,svd etc.\n",
    "\n",
    "Output is a Linear regressor with L2 regularizer."
   ]
  },
  {
   "cell_type": "markdown",
   "metadata": {
    "colab_type": "text",
    "id": "9Wyr-kOLm-AT"
   },
   "source": [
    "\n",
    "\n",
    "\n",
    "In ridge regression, L-2 regularization is applied to the coefficients. You have a hyperparameter alpha which you can vary to control the extent of constraining the coefficients. We would like you to experiment with different values of alpha and comment on the model performance. You may use the best setting of Linear Regression to Ridge Regression also. **Comment** on the effect of the alpha value on the mean squared error.\n",
    "\n",
    "\n",
    "---\n",
    "\n",
    "**9 Points**\n",
    "\n",
    "\n",
    "---\n",
    "\n"
   ]
  },
  {
   "cell_type": "code",
   "execution_count": 23,
   "metadata": {
    "colab": {
     "base_uri": "https://localhost:8080/",
     "height": 464
    },
    "colab_type": "code",
    "id": "-2MHw9z8oKVE",
    "outputId": "846388ba-ba54-41bd-c960-25220beb21e1"
   },
   "outputs": [
    {
     "name": "stdout",
     "output_type": "stream",
     "text": [
      "Mean Squared error with alpha = 0.01: 0.06949533858202822\n",
      "Mean Squared error with alpha = 0.05: 0.07066834809290343\n",
      "Mean Squared error with alpha = 0.1: 0.07337171588524401\n",
      "Mean Squared error with alpha = 0.25: 0.0802209124541079\n",
      "Mean Squared error with alpha = 0.5: 0.0878693387620567\n",
      "Mean Squared error with alpha = 0.75: 0.09341083920880917\n",
      "Mean Squared error with alpha = 1: 0.09789354168379302\n",
      "Mean Squared error with alpha = 1.25: 0.10171577487315041\n",
      "Mean Squared error with alpha = 1.5: 0.10507571302331147\n",
      "Mean Squared error with alpha = 1.75: 0.10808909385904328\n",
      "Mean Squared error with alpha = 2: 0.1108306112506254\n"
     ]
    },
    {
     "data": {
      "image/png": "[encoded data removed]",
      "text/plain": [
       "<Figure size 432x288 with 1 Axes>"
      ]
     },
     "metadata": {
      "tags": []
     },
     "output_type": "display_data"
    }
   ],
   "source": [
    "\n",
    "alpha_values = [0.01,0.05,0.1,0.25,0.5,0.75,1,1.25,1.5,1.75,2]\n",
    "error_list = []\n",
    "\n",
    "# Step 1: Split into train and test set based on the best fraction\n",
    "# Insert your code below\n",
    "best_test_size = test_size_fractions[test_size_fractions_index]\n",
    "X_train, X_test, y_train, y_test = train_test_split(input_features, target, test_size=best_test_size, random_state=42)\n",
    "\n",
    "\n",
    "for alpha_ in alpha_values:\n",
    "\n",
    "\n",
    "    # Step 2: Create a Ridge regressor object with desired alpha value\n",
    "    # Insert your code below\n",
    "    reg_ridge = Ridge(fit_intercept=(intercept_option^1), alpha=alpha_, random_state=42)\n",
    "    \n",
    "\n",
    "    # Step 3(a): Train the Ridge Regression model using training set\n",
    "    # Insert your code below\n",
    "    reg_ridge.fit(X_train, y_train)    \n",
    "\n",
    "    # Step 3(b): Predict the target values using the trained Ridge model for test set instances\n",
    "    # Insert your code below\n",
    "    y_pred = reg_ridge.predict(X_test)\n",
    "\n",
    "    # Step 3(c): Print the mean squared error of the model on test set. Add it to an error list to plot later.\n",
    "    # Insert your code below\n",
    "    mse_ = mean_squared_error(y_test, y_pred)   \n",
    "    error_list.append(mse_)\n",
    "    # print(reg_ridge.score(X_test, y_test))\n",
    "    reg_ridge = clone(reg_ridge)\n",
    "    print(f'Mean Squared error with alpha = {alpha_}:', mse_)    \n",
    "\n",
    "# Step 4: Plot a graph of different alpha values of ridge regression versus mean squared error\n",
    "\n",
    "plt.plot(alpha_values, error_list)\n",
    "plt.xlabel('Alpha')\n",
    "plt.ylabel('MSE')\n",
    "plt.show()"
   ]
  },
  {
   "cell_type": "markdown",
   "metadata": {
    "colab_type": "text",
    "id": "-iaLibMKZ5QT"
   },
   "source": [
    "**Comment**: Ridge Regressor uses the L2 norm. As the alpha(regularization parameter) increases, mean squared error is seen to be increasing. It might be because making alpha higher might be restricting the model to fully approximate the target concept. The error is seen to be very low, hence the ridge regressor models the data reasonably well."
   ]
  },
  {
   "cell_type": "markdown",
   "metadata": {
    "colab_type": "text",
    "id": "qNlHlQBPNXLM"
   },
   "source": [
    "# Lasso Regression\n",
    "\n",
    "---\n",
    "\n",
    "Describe the arguments and output of the Lasso regression function call in sklearn package.\n",
    "\n",
    "\n",
    "\n",
    "---\n",
    "**5 Points** \n",
    "\n",
    "\n",
    "---\n",
    "**Lasso regressor** perform Linear Regression with L1 regularization.\n",
    "It has following parameters:\n",
    "1. fit_intercept: Decides whether or not an intercept variable is used or not.\n",
    "2. normalize: Normalize the input vectors by subtracting by the mean and                      dividing by l2 norm.\n",
    "3. copy_X: Decides whether or not the input matrix X is preserved.\n",
    "4. positive: Forces parameters to be positive.\n",
    "5. alpha: Decides the coefficient of the regularizing term in the error.\n",
    "6. max_iter: Maximum number of iterations for conjugate gradient solver.\n",
    "7. solver: Decides how to solve the regression problem. e.g - lsqr,svd etc.\n",
    "8. precompute: Whether to use a precomputed Gram matrix to speed up calculations. \n",
    "\n",
    "Output is a Linear regressor with L1 regularizer."
   ]
  },
  {
   "cell_type": "markdown",
   "metadata": {
    "colab_type": "text",
    "id": "GLj4DffxpM4K"
   },
   "source": [
    "In Lasso regression, L-1 regularization is applied to the coefficients. You have a hyperparameter alpha which you can vary to control the extent of constraining the coefficients. We would like you to experiment with different values of alpha and **comment** on the model performance. You may use the best setting of Linear Regression to Lasso Regression also.\n",
    "\n",
    "---\n",
    "\n",
    "**9 Points**\n",
    "\n",
    "---\n",
    "\n"
   ]
  },
  {
   "cell_type": "code",
   "execution_count": 24,
   "metadata": {
    "colab": {
     "base_uri": "https://localhost:8080/",
     "height": 464
    },
    "colab_type": "code",
    "id": "FyEtXEX0jZRw",
    "outputId": "64af2dc3-c86c-4538-85de-eff56e71e534"
   },
   "outputs": [
    {
     "name": "stdout",
     "output_type": "stream",
     "text": [
      "Mean Squared error with alpha = 0.01: 0.18570261651214473\n",
      "Mean Squared error with alpha = 0.05: 0.31891887780506306\n",
      "Mean Squared error with alpha = 0.1: 0.36235199191450235\n",
      "Mean Squared error with alpha = 0.25: 0.6549032006347929\n",
      "Mean Squared error with alpha = 0.5: 1.1788168812174529\n",
      "Mean Squared error with alpha = 0.75: 1.1788168812174529\n",
      "Mean Squared error with alpha = 1: 1.1788168812174529\n",
      "Mean Squared error with alpha = 1.25: 1.1788168812174529\n",
      "Mean Squared error with alpha = 1.5: 1.1788168812174529\n",
      "Mean Squared error with alpha = 1.75: 1.1788168812174529\n",
      "Mean Squared error with alpha = 2: 1.1788168812174529\n"
     ]
    },
    {
     "data": {
      "image/png": "[encoded data removed]",
      "text/plain": [
       "<Figure size 432x288 with 1 Axes>"
      ]
     },
     "metadata": {
      "tags": []
     },
     "output_type": "display_data"
    }
   ],
   "source": [
    "from sklearn import linear_model\n",
    "\n",
    "alpha_values = [0.01,0.05,0.1,0.25,0.5,0.75,1,1.25,1.5,1.75,2]\n",
    "error_list = []\n",
    "\n",
    "# Step 1: Split into train and test set based on the best fraction\n",
    "# Insert your code below\n",
    "best_test_size = test_size_fractions[test_size_fractions_index]\n",
    "X_train, X_test, y_train, y_test = train_test_split(input_features, target, test_size=best_test_size, random_state=42)\n",
    "\n",
    "\n",
    "for alpha_ in alpha_values:\n",
    "\n",
    "    # Step 2: Create a LASSO regressor object with desired alpha value\n",
    "    # Insert your code below\n",
    "    reg_lasso = Lasso(fit_intercept=(intercept_option^1), alpha=alpha_, random_state=42)\n",
    "\n",
    "    # Step 3(a): Train the LASSO Regression model using training set\n",
    "    # Insert your code below\n",
    "    reg_lasso.fit(X_train, y_train)\n",
    "\n",
    "    # Step 3(b): Predict the target values using the trained LASSO model for test set instances\n",
    "    # Insert your code below\n",
    "    y_pred = reg_lasso.predict(X_test)\n",
    "\n",
    "    # Step 3(c): Print the mean squared error of the model on test set. Add it to an error list to plot later.\n",
    "    # Insert your code below\n",
    "    mse_ = mean_squared_error(y_test, y_pred)   \n",
    "    error_list.append(mse_)\n",
    "    reg_lasso = clone(reg_lasso)\n",
    "    print(f'Mean Squared error with alpha = {alpha_}:', mse_)    \n",
    "\n",
    "\n",
    "\n",
    "# Step 4: Plot a graph of different alpha values of lasso regression versus mean squared error\n",
    "plt.plot(alpha_values, error_list)\n",
    "plt.xlabel('Alpha')\n",
    "plt.ylabel('MSE')\n",
    "plt.show()"
   ]
  },
  {
   "cell_type": "markdown",
   "metadata": {
    "colab_type": "text",
    "id": "fK8jkOqHZADB"
   },
   "source": [
    "**Comment**: Lasso Regressor uses the L1 norm. As the alpha(regularization parameter) increases, mean squared error is seen to be increasing. It might be because making alpha higher might be restricting the model to fully approximate the target concept. After a while, it becomes constant, because now regularization error cannot decrease without increasing the mean squared error significantly. Lasso regressor also removes the features that do not contribute much. Also, the error due to lasso regularization is much larger without it."
   ]
  },
  {
   "cell_type": "markdown",
   "metadata": {
    "colab_type": "text",
    "id": "GaY8yDgjFvwb"
   },
   "source": [
    "Now since you have tried LASSO with different alpha values, you may try different number of maximum iterations associated with LASSO and **comment** on its effect on the mean squared error.\n",
    "\n",
    "\n",
    "---\n",
    "\n",
    "**9 Points**\n",
    "\n",
    "---\n",
    "\n"
   ]
  },
  {
   "cell_type": "code",
   "execution_count": 26,
   "metadata": {
    "colab": {
     "base_uri": "https://localhost:8080/",
     "height": 1000
    },
    "colab_type": "code",
    "id": "51uy4oEqFuBK",
    "outputId": "b452ed8f-1fd9-43f9-d40a-3fd1bc1effde"
   },
   "outputs": [
    {
     "name": "stderr",
     "output_type": "stream",
     "text": [
      "/usr/local/lib/python3.6/dist-packages/sklearn/linear_model/_coordinate_descent.py:476: ConvergenceWarning: Objective did not converge. You might want to increase the number of iterations. Duality gap: 173.9507753636887, tolerance: 0.11346251540321639\n",
      "  positive)\n",
      "/usr/local/lib/python3.6/dist-packages/sklearn/linear_model/_coordinate_descent.py:476: ConvergenceWarning: Objective did not converge. You might want to increase the number of iterations. Duality gap: 2.502077944688267, tolerance: 0.11346251540321639\n",
      "  positive)\n"
     ]
    },
    {
     "name": "stdout",
     "output_type": "stream",
     "text": [
      "Mean Squared error with max iterations = 1: 0.3139765162417143\n",
      "Mean Squared error with max iterations = 3: 0.361622357126791\n",
      "Mean Squared error with max iterations = 5: 0.3623444601806452\n",
      "Mean Squared error with max iterations = 7: 0.36235199191450235\n",
      "Mean Squared error with max iterations = 9: 0.36235199191450235\n",
      "Mean Squared error with max iterations = 11: 0.36235199191450235\n",
      "Mean Squared error with max iterations = 13: 0.36235199191450235\n",
      "Mean Squared error with max iterations = 15: 0.36235199191450235\n",
      "Mean Squared error with max iterations = 17: 0.36235199191450235\n",
      "Mean Squared error with max iterations = 19: 0.36235199191450235\n",
      "Mean Squared error with max iterations = 21: 0.36235199191450235\n",
      "Mean Squared error with max iterations = 23: 0.36235199191450235\n",
      "Mean Squared error with max iterations = 25: 0.36235199191450235\n",
      "Mean Squared error with max iterations = 27: 0.36235199191450235\n",
      "Mean Squared error with max iterations = 29: 0.36235199191450235\n",
      "Mean Squared error with max iterations = 31: 0.36235199191450235\n",
      "Mean Squared error with max iterations = 33: 0.36235199191450235\n",
      "Mean Squared error with max iterations = 35: 0.36235199191450235\n",
      "Mean Squared error with max iterations = 37: 0.36235199191450235\n",
      "Mean Squared error with max iterations = 39: 0.36235199191450235\n",
      "Mean Squared error with max iterations = 41: 0.36235199191450235\n",
      "Mean Squared error with max iterations = 43: 0.36235199191450235\n",
      "Mean Squared error with max iterations = 45: 0.36235199191450235\n",
      "Mean Squared error with max iterations = 47: 0.36235199191450235\n",
      "Mean Squared error with max iterations = 49: 0.36235199191450235\n",
      "Mean Squared error with max iterations = 51: 0.36235199191450235\n",
      "Mean Squared error with max iterations = 53: 0.36235199191450235\n",
      "Mean Squared error with max iterations = 55: 0.36235199191450235\n",
      "Mean Squared error with max iterations = 57: 0.36235199191450235\n",
      "Mean Squared error with max iterations = 59: 0.36235199191450235\n",
      "Mean Squared error with max iterations = 61: 0.36235199191450235\n",
      "Mean Squared error with max iterations = 63: 0.36235199191450235\n",
      "Mean Squared error with max iterations = 65: 0.36235199191450235\n",
      "Mean Squared error with max iterations = 67: 0.36235199191450235\n",
      "Mean Squared error with max iterations = 69: 0.36235199191450235\n",
      "Mean Squared error with max iterations = 71: 0.36235199191450235\n",
      "Mean Squared error with max iterations = 73: 0.36235199191450235\n",
      "Mean Squared error with max iterations = 75: 0.36235199191450235\n",
      "Mean Squared error with max iterations = 77: 0.36235199191450235\n",
      "Mean Squared error with max iterations = 79: 0.36235199191450235\n",
      "Mean Squared error with max iterations = 81: 0.36235199191450235\n",
      "Mean Squared error with max iterations = 83: 0.36235199191450235\n",
      "Mean Squared error with max iterations = 85: 0.36235199191450235\n",
      "Mean Squared error with max iterations = 87: 0.36235199191450235\n",
      "Mean Squared error with max iterations = 89: 0.36235199191450235\n",
      "Mean Squared error with max iterations = 91: 0.36235199191450235\n",
      "Mean Squared error with max iterations = 93: 0.36235199191450235\n",
      "Mean Squared error with max iterations = 95: 0.36235199191450235\n",
      "Mean Squared error with max iterations = 97: 0.36235199191450235\n",
      "Mean Squared error with max iterations = 99: 0.36235199191450235\n",
      "Mean Squared error with max iterations = 101: 0.36235199191450235\n",
      "Mean Squared error with max iterations = 103: 0.36235199191450235\n",
      "Mean Squared error with max iterations = 105: 0.36235199191450235\n",
      "Mean Squared error with max iterations = 107: 0.36235199191450235\n",
      "Mean Squared error with max iterations = 109: 0.36235199191450235\n",
      "Mean Squared error with max iterations = 111: 0.36235199191450235\n",
      "Mean Squared error with max iterations = 113: 0.36235199191450235\n",
      "Mean Squared error with max iterations = 115: 0.36235199191450235\n",
      "Mean Squared error with max iterations = 117: 0.36235199191450235\n",
      "Mean Squared error with max iterations = 119: 0.36235199191450235\n",
      "Mean Squared error with max iterations = 121: 0.36235199191450235\n",
      "Mean Squared error with max iterations = 123: 0.36235199191450235\n",
      "Mean Squared error with max iterations = 125: 0.36235199191450235\n",
      "Mean Squared error with max iterations = 127: 0.36235199191450235\n",
      "Mean Squared error with max iterations = 129: 0.36235199191450235\n",
      "Mean Squared error with max iterations = 131: 0.36235199191450235\n",
      "Mean Squared error with max iterations = 133: 0.36235199191450235\n",
      "Mean Squared error with max iterations = 135: 0.36235199191450235\n",
      "Mean Squared error with max iterations = 137: 0.36235199191450235\n",
      "Mean Squared error with max iterations = 139: 0.36235199191450235\n",
      "Mean Squared error with max iterations = 141: 0.36235199191450235\n",
      "Mean Squared error with max iterations = 143: 0.36235199191450235\n",
      "Mean Squared error with max iterations = 145: 0.36235199191450235\n",
      "Mean Squared error with max iterations = 147: 0.36235199191450235\n",
      "Mean Squared error with max iterations = 149: 0.36235199191450235\n",
      "Mean Squared error with max iterations = 151: 0.36235199191450235\n",
      "Mean Squared error with max iterations = 153: 0.36235199191450235\n",
      "Mean Squared error with max iterations = 155: 0.36235199191450235\n",
      "Mean Squared error with max iterations = 157: 0.36235199191450235\n",
      "Mean Squared error with max iterations = 159: 0.36235199191450235\n",
      "Mean Squared error with max iterations = 161: 0.36235199191450235\n",
      "Mean Squared error with max iterations = 163: 0.36235199191450235\n",
      "Mean Squared error with max iterations = 165: 0.36235199191450235\n",
      "Mean Squared error with max iterations = 167: 0.36235199191450235\n",
      "Mean Squared error with max iterations = 169: 0.36235199191450235\n",
      "Mean Squared error with max iterations = 171: 0.36235199191450235\n",
      "Mean Squared error with max iterations = 173: 0.36235199191450235\n",
      "Mean Squared error with max iterations = 175: 0.36235199191450235\n",
      "Mean Squared error with max iterations = 177: 0.36235199191450235\n",
      "Mean Squared error with max iterations = 179: 0.36235199191450235\n",
      "Mean Squared error with max iterations = 181: 0.36235199191450235\n",
      "Mean Squared error with max iterations = 183: 0.36235199191450235\n",
      "Mean Squared error with max iterations = 185: 0.36235199191450235\n",
      "Mean Squared error with max iterations = 187: 0.36235199191450235\n",
      "Mean Squared error with max iterations = 189: 0.36235199191450235\n",
      "Mean Squared error with max iterations = 191: 0.36235199191450235\n",
      "Mean Squared error with max iterations = 193: 0.36235199191450235\n",
      "Mean Squared error with max iterations = 195: 0.36235199191450235\n",
      "Mean Squared error with max iterations = 197: 0.36235199191450235\n",
      "Mean Squared error with max iterations = 199: 0.36235199191450235\n"
     ]
    },
    {
     "data": {
      "image/png": "[encoded data removed]",
      "text/plain": [
       "<Figure size 432x288 with 1 Axes>"
      ]
     },
     "metadata": {
      "tags": []
     },
     "output_type": "display_data"
    }
   ],
   "source": [
    "\n",
    "# Step 1: Split into train and test set based on the best fraction\n",
    "# Insert your code below\n",
    "best_test_size = test_size_fractions[test_size_fractions_index]\n",
    "X_train, X_test, y_train, y_test = train_test_split(input_features, target, test_size=best_test_size, random_state=42)\n",
    "error_list_iter = []\n",
    "\n",
    "for m_iterations in range(1,200,2):\n",
    "\n",
    "    # Step 2: Create a LASSO regressor object with desired number of iterations\n",
    "    # Insert your code below\n",
    "    reg_lasso = Lasso(fit_intercept=(intercept_option^1), max_iter=m_iterations, random_state=42, alpha=0.1)    \n",
    "\n",
    "    # Step 3(a): Train the LASSO Regression model using training set\n",
    "    # Insert your code below\n",
    "    reg_lasso.fit(X_train, y_train)\n",
    "\n",
    "    # Step 3(b): Predict the target values using the trained LASSO model for test set instances\n",
    "    # Insert your code below\n",
    "    y_pred = reg_lasso.predict(X_test)\n",
    "\n",
    "    # Step 3(c): Print the mean squared error of the model on test set. Add it to an error list to plot later.\n",
    "    # Insert your code below    \n",
    "    mse_ = mean_squared_error(y_test, y_pred)   \n",
    "    error_list_iter.append(mse_)\n",
    "    reg_lasso = clone(reg_lasso)\n",
    "    print(f'Mean Squared error with max iterations = {m_iterations}:', mse_)\n",
    "\n",
    "\n",
    "# Step 4: Plot a graph of different alpha values of lasso regression versus mean squared error\n",
    "plt.plot(range(1, 200, 2), error_list_iter)\n",
    "plt.xlabel('Max Iterations')\n",
    "plt.ylabel('MSE')\n",
    "plt.show()"
   ]
  },
  {
   "cell_type": "markdown",
   "metadata": {
    "colab_type": "text",
    "id": "pfqBG4UQakDF"
   },
   "source": [
    "**Comment**: As the number of iterations increase the MSE is increasing, though after a while it plateaus. The model has not converged when the iterations are not enough though they show low MSE which is an anomalous result."
   ]
  },
  {
   "cell_type": "code",
   "execution_count": 0,
   "metadata": {
    "colab": {},
    "colab_type": "code",
    "id": "uzx5focOp1y9"
   },
   "outputs": [],
   "source": []
  }
 ],
 "metadata": {
  "accelerator": "TPU",
  "colab": {
   "collapsed_sections": [],
   "machine_shape": "hm",
   "name": "DEEPAK PANT - lab_2.ipynb",
   "provenance": []
  },
  "kernelspec": {
   "display_name": "Python 3",
   "language": "python",
   "name": "python3"
  }
 },
 "nbformat": 4,
 "nbformat_minor": 1
}
